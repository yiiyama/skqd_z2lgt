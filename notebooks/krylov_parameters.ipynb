{
 "cells": [
  {
   "cell_type": "code",
   "execution_count": null,
   "id": "e4e959f9",
   "metadata": {},
   "outputs": [],
   "source": [
    "import os\n",
    "import time\n",
    "from concurrent.futures import ThreadPoolExecutor\n",
    "import numpy as np\n",
    "from scipy.sparse.linalg import eigsh\n",
    "import h5py\n",
    "import matplotlib.pyplot as plt\n",
    "import jax\n",
    "import jax.numpy as jnp\n",
    "from jax.sharding import PartitionSpec, NamedSharding\n",
    "\n",
    "from qiskit_aer import AerSimulator\n",
    "from qiskit_addon_sqd.qubit import project_operator_to_subspace\n",
    "from heavyhex_qft.triangular_z2 import TriangularZ2Lattice\n",
    "from skqd_z2lgt.circuits import make_plaquette_circuits, compose_trotter_circuits\n",
    "from skqd_z2lgt.sqd import keys_to_intset, qiskit_sqd\n",
    "from skqd_z2lgt.ising_hamiltonian import ising_hamiltonian, make_matvec, parse_hamiltonian\n",
    "from skqd_z2lgt.jax_experimental_sparse_linalg import lobpcg_standard\n",
    "from skqd_z2lgt.ising_dmrg import ising_dmrg\n",
    "\n",
    "os.environ['CUDA_VISIBLE_DEVICES'] = '1,3,4,5,6,2,7'\n",
    "#os.environ['CUDA_VISIBLE_DEVICES'] = '0,1,2,3'\n",
    "#os.environ['CUDA_VISIBLE_DEVICES'] = '0,1,3,4'\n",
    "jax.config.update('jax_enable_x64', True)\n",
    "data_dir = '/data/iiyama/2dz2'\n",
    "\n",
    "julia_bin = ['julia', '--sysimage', '/opt/julia/iiyama/sysimages/sys_itensors.so']"
   ]
  },
  {
   "cell_type": "code",
   "execution_count": null,
   "id": "46cc4b22",
   "metadata": {},
   "outputs": [],
   "source": [
    "configs = []\n",
    "configs.append('''\n",
    "* * *\n",
    " * * *\n",
    "* * *\n",
    "''')\n",
    "configs.append('''\n",
    "* * * * *\n",
    " * * * * *\n",
    "* * * * *\n",
    "''')\n",
    "configs.append('''\n",
    "* * * * *\n",
    " * * * * *\n",
    "* * * * *\n",
    " * * * * *\n",
    "''')\n",
    "configs.append('''\n",
    "* * * * *\n",
    " * * * * *\n",
    "* * * * *\n",
    " * * * * *\n",
    "* * * * *\n",
    "''')"
   ]
  },
  {
   "cell_type": "code",
   "execution_count": null,
   "id": "a4031e9a",
   "metadata": {},
   "outputs": [],
   "source": [
    "max_steps = 12\n",
    "shots = 100_000\n",
    "num_experiments = 5\n",
    "couplings = np.array([0.5, 1., 1.5])\n",
    "dtvals = np.linspace(0.1, 0.7, 7)\n",
    "#couplings = np.array([0.5])\n",
    "#dtvals = np.array([0.1])"
   ]
  },
  {
   "cell_type": "markdown",
   "id": "26efce0e",
   "metadata": {},
   "source": [
    "### Theoretical optimal $\\Delta t$ for $\\lambda = 1$"
   ]
  },
  {
   "cell_type": "code",
   "execution_count": null,
   "id": "4666f2d4",
   "metadata": {},
   "outputs": [],
   "source": [
    "energy_gaps = []\n",
    "for config in configs:\n",
    "    dual_lattice = TriangularZ2Lattice(config).plaquette_dual()\n",
    "    hamiltonian = dual_lattice.make_hamiltonian(1.)\n",
    "    emax = -ising_dmrg(-hamiltonian, julia_bin=julia_bin)\n",
    "    emin = ising_dmrg(hamiltonian, julia_bin=julia_bin)\n",
    "    energy_gaps.append(emax - emin)\n"
   ]
  },
  {
   "cell_type": "code",
   "execution_count": null,
   "id": "d212792a",
   "metadata": {},
   "outputs": [],
   "source": [
    "plt.plot(np.pi / np.array(energy_gaps))\n",
    "plt.plot(0.8 / np.array([8, 16, 24, 32]))"
   ]
  },
  {
   "cell_type": "code",
   "execution_count": null,
   "id": "d3d8ce9d",
   "metadata": {},
   "outputs": [],
   "source": [
    "def extract_samples(exp_samples):\n",
    "    subspace = set([])\n",
    "    bitstrings = []\n",
    "    for step_samples in exp_samples:\n",
    "        subspace |= set(step_samples.tolist())\n",
    "        bitstrings.append(\n",
    "            (\n",
    "                (np.array(sorted(subspace))[:, None] >> np.arange(npl)[None, ::-1]) % 2\n",
    "            ).astype(np.uint8)\n",
    "        )\n",
    "    return bitstrings\n"
   ]
  },
  {
   "cell_type": "code",
   "execution_count": null,
   "id": "de9cb6e5",
   "metadata": {},
   "outputs": [],
   "source": [
    "executor = ThreadPoolExecutor()\n",
    "rng = np.random.default_rng()\n",
    "simulator = AerSimulator(method='statevector', device='GPU', max_parallel_experiments=7,\n",
    "                         num_threads_per_device=1)\n",
    "\n",
    "for config in configs:\n",
    "    lattice = TriangularZ2Lattice(config)\n",
    "    npl = lattice.num_plaquettes\n",
    "    print(npl, 'plaquettes')\n",
    "    dual_lattice = lattice.plaquette_dual()\n",
    "\n",
    "    all_circuits = []\n",
    "    for icp, coupling in enumerate(couplings):\n",
    "        print('cp', coupling)\n",
    "        hamiltonian = dual_lattice.make_hamiltonian(coupling)\n",
    "\n",
    "        for idt, delta_t in enumerate(dtvals):\n",
    "            print('dt', delta_t)\n",
    "            step_circuits = make_plaquette_circuits(dual_lattice, coupling, delta_t)\n",
    "            trotter_step = step_circuits[0]\n",
    "            measure = step_circuits[-1]\n",
    "            circuits = compose_trotter_circuits(trotter_step, measure, max_steps)\n",
    "            all_circuits += circuits\n",
    "    print(len(all_circuits))\n",
    "    start = time.time()\n",
    "    result = simulator.run(all_circuits, shots=shots * num_experiments).result()\n",
    "    print('sim completed', time.time() - start)\n",
    "\n",
    "    samples = np.empty((len(couplings) * len(dtvals) * max_steps, num_experiments * shots),\n",
    "                       dtype=np.uint32)\n",
    "    for ires, res in enumerate(result.results):\n",
    "        pos = 0\n",
    "        for key, value in res.data.counts.items():\n",
    "            samples[ires, pos:pos + value] = int(key, 16)\n",
    "            pos += value\n",
    "\n",
    "    rng.shuffle(samples, axis=1)\n",
    "\n",
    "    samples = samples.reshape((len(couplings), len(dtvals), max_steps, num_experiments, shots))\n",
    "    samples = samples.transpose((0, 1, 3, 2, 4))\n",
    "\n",
    "    bitstrings = {}\n",
    "    futures = {}\n",
    "    iresult = 0\n",
    "    for icp, coupling in enumerate(couplings):\n",
    "        print('cp', coupling)\n",
    "        for idt, delta_t in enumerate(dtvals):\n",
    "            for iexp in range(num_experiments):\n",
    "                futures[(icp, idt, iexp)] = executor.submit(extract_samples, samples[icp, idt, iexp])\n",
    "                iresult += max_steps\n",
    "\n",
    "    for (icp, idt, iexp), future in futures.items():\n",
    "        for istep, subspace in enumerate(future.result()):\n",
    "            bitstrings[(icp, idt, istep, iexp)] = subspace\n",
    "    print('samples extracted')\n",
    "\n",
    "    filename = f'{data_dir}/plaqsim_data/'\n",
    "    filename += f'{npl}plaqs_{max_steps}steps_{shots}shots_samples.h5'\n",
    "\n",
    "    with h5py.File(filename, 'w') as out:\n",
    "        out.create_dataset('lattice_config', data=config)\n",
    "        out.create_dataset('max_steps', data=max_steps)\n",
    "        out.create_dataset('shots', data=shots)\n",
    "        out.create_dataset('num_experiments', data=num_experiments)\n",
    "        out.create_dataset('couplings', data=couplings)\n",
    "        out.create_dataset('dtvals', data=dtvals)\n",
    "        for icp in range(len(couplings)):\n",
    "            cpgroup = out.create_group(f'c{icp}')\n",
    "            for idt in range(len(dtvals)):\n",
    "                dtgroup = cpgroup.create_group(f'dt{idt}')\n",
    "                for istep in range(max_steps):\n",
    "                    stgroup = dtgroup.create_group(f'step{istep + 1}')\n",
    "                    for iexp in range(num_experiments):\n",
    "                        stgroup.create_dataset(f'exp{iexp}', data=bitstrings[(icp, idt, istep, iexp)])"
   ]
  },
  {
   "cell_type": "markdown",
   "id": "63c323cb",
   "metadata": {},
   "source": [
    "### Attempts at Krylov diagonalization"
   ]
  },
  {
   "cell_type": "code",
   "execution_count": null,
   "id": "ac0fcf26",
   "metadata": {},
   "outputs": [],
   "source": [
    "nq, zzops, zops, xops = parse_hamiltonian(hamiltonian)\n",
    "matvec = make_matvec(nq, zzops, zops, xops, jnp)\n",
    "mesh = jax.make_mesh((jax.device_count(), 1), ('dev', 'dum'))\n",
    "xmat = jax.device_put(np.full((2 ** nq, 1), np.power(2., -nq / 2), dtype=np.complex128),\n",
    "                      NamedSharding(mesh, PartitionSpec('dev', 'dum')))\n",
    "print('compiling')\n",
    "matvec(xmat)\n",
    "print('done')"
   ]
  },
  {
   "cell_type": "code",
   "execution_count": null,
   "id": "c75785b5",
   "metadata": {},
   "outputs": [],
   "source": [
    "isingh = ising_hamiltonian(hamiltonian, npmod=jnp)\n",
    "print('compiling')\n",
    "isingh.matvec(np.zeros(2 ** hamiltonian.num_qubits, dtype=np.complex128))\n",
    "print('eigsh')\n",
    "evals, evecs = eigsh(isingh, k=1, which='SA')"
   ]
  },
  {
   "cell_type": "code",
   "execution_count": null,
   "id": "5d0e29ad",
   "metadata": {},
   "outputs": [],
   "source": [
    "nq, zzops, zops, xops = parse_hamiltonian(hamiltonian)\n",
    "matvec = make_matvec(nq, zzops, zops, xops, jnp)\n",
    "mesh = jax.make_mesh((jax.device_count(), 1), ('dev', 'dum'))\n",
    "xmat = jax.device_put(np.full((2 ** nq, 1), np.power(2., -nq / 2), dtype=np.complex128),\n",
    "                      NamedSharding(mesh, PartitionSpec('dev', 'dum')))\n",
    "evalsj, evecsj, _ = lobpcg_standard(matvec, xmat)"
   ]
  },
  {
   "cell_type": "code",
   "execution_count": null,
   "id": "b88faca3",
   "metadata": {},
   "outputs": [],
   "source": []
  }
 ],
 "metadata": {
  "kernelspec": {
   "display_name": "Python 3 (ipykernel)",
   "language": "python",
   "name": "python3"
  },
  "language_info": {
   "codemirror_mode": {
    "name": "ipython",
    "version": 3
   },
   "file_extension": ".py",
   "mimetype": "text/x-python",
   "name": "python",
   "nbconvert_exporter": "python",
   "pygments_lexer": "ipython3",
   "version": "3.12.11"
  }
 },
 "nbformat": 4,
 "nbformat_minor": 5
}
