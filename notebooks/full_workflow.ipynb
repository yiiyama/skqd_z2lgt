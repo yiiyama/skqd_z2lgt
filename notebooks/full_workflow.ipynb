{
 "cells": [
  {
   "cell_type": "code",
   "execution_count": null,
   "id": "43804b35",
   "metadata": {},
   "outputs": [],
   "source": [
    "import os\n",
    "import sys\n",
    "from pathlib import Path\n",
    "import logging\n",
    "import subprocess\n",
    "import tempfile\n",
    "import numpy as np\n",
    "from scipy.sparse import csr_array\n",
    "import h5py\n",
    "import matplotlib.pyplot as plt\n",
    "from heavyhex_qft.triangular_z2 import TriangularZ2Lattice\n",
    "from heavyhex_qft.plaquette_dual import PlaquetteDual\n",
    "import skqd_z2lgt\n",
    "\n",
    "# cuda_visible_devices = [1, 2, 4, 5, 6, 7]\n",
    "CUDA_VISIBLE_DEVICES = list(range(1, 5))\n",
    "\n",
    "logging.basicConfig(level=logging.WARNING)\n",
    "LOG = logging.getLogger('skqd_z2lgt')\n",
    "LOG.setLevel(logging.INFO)\n",
    "\n",
    "SCRIPT_DIR = Path(skqd_z2lgt.__file__).parent / 'tasks'"
   ]
  },
  {
   "cell_type": "code",
   "execution_count": null,
   "id": "23194050",
   "metadata": {},
   "outputs": [],
   "source": [
    "def read_skqd_result(filename, groupname):\n",
    "    with h5py.File(filename, 'r') as source:\n",
    "        group = source[groupname]\n",
    "        dataset = group['sqd_states']\n",
    "        num_bits = dataset.attrs['num_bits']\n",
    "        sqd_states = np.unpackbits(dataset[()], axis=1)[:, :num_bits]\n",
    "        data = group['ham_proj/data'][()]\n",
    "        indices = group['ham_proj/indices'][()]\n",
    "        indptr = group['ham_proj/indptr'][()]\n",
    "        shape = (indptr.shape[0] - 1,) * 2\n",
    "        ham_proj = csr_array((data, indices, indptr), shape=shape)\n",
    "        energy = group['energy'][()]\n",
    "\n",
    "    return sqd_states, ham_proj, energy"
   ]
  },
  {
   "cell_type": "markdown",
   "id": "325b1d38",
   "metadata": {},
   "source": [
    "## Basic setup"
   ]
  },
  {
   "cell_type": "code",
   "execution_count": null,
   "id": "ecfb7ffa",
   "metadata": {},
   "outputs": [],
   "source": [
    "# output_filename = '/data/iiyama/2dz2/full_workflow_kawasaki_64plaq_K1.0_dt1overnp.h5'\n",
    "output_filename = '/tmp/K1.0_dt1over64.h5'\n",
    "\n",
    "# configuration = {\n",
    "#     'lattice': '''\n",
    "#   ^ ^ ^\n",
    "#  * * * *\n",
    "# * * * * *\n",
    "#  * * * *\n",
    "# * * * * *\n",
    "#  * * * *\n",
    "# * * * * *\n",
    "#  * * * *\n",
    "#   v v v\n",
    "# ''',\n",
    "#     'plaquette_energy': 0.8,\n",
    "#     'delta_t': 0.5,\n",
    "#     'num_steps': 5,\n",
    "#     'shots': 100_000,\n",
    "#     'basis_2q': 'cz',\n",
    "#     'instance': 'ICEPP-dedicated-temp-prem-us',\n",
    "#     'backend': 'ibm_pittsburgh'\n",
    "# }\n",
    "configuration = {\n",
    "    'lattice': '''\n",
    "*-*-*-*-*╷\n",
    " * * * * *\n",
    "* * * * *╎\n",
    " * * * * *\n",
    "* * * * *╎\n",
    " * * * * *\n",
    "* * * * *╎\n",
    " * * * * *\n",
    "*-*-*-*-*╵\n",
    "''',\n",
    "    'plaquette_energy': 1.,\n",
    "    'delta_t': 1. / 64,\n",
    "    'num_steps': 8,\n",
    "    'basis_2q': 'rzz',\n",
    "    'instance': 'ICEPP-dedicated',\n",
    "    'backend': 'ibm_kawasaki'\n",
    "}\n",
    "\n"
   ]
  },
  {
   "cell_type": "code",
   "execution_count": null,
   "id": "8629bdd2",
   "metadata": {},
   "outputs": [],
   "source": [
    "try:\n",
    "    with h5py.File(output_filename, 'r') as source:\n",
    "        for key, record in source.attrs.items():\n",
    "            if (value := configuration.get(key)) is None:\n",
    "                configuration[key] = record\n",
    "            else:\n",
    "                if ((isinstance(record, float) and not np.isclose(record, value))\n",
    "                        or isinstance(record, (int, str)) and record != value):\n",
    "                    raise ValueError(f'Wrong {key}!')\n",
    "\n",
    "except FileNotFoundError:\n",
    "    with h5py.File(output_filename, 'w-', libver='latest') as output_file:\n",
    "        for key, value in configuration.items():\n",
    "            output_file.attrs[key] = value"
   ]
  },
  {
   "cell_type": "code",
   "execution_count": null,
   "id": "667c5c48",
   "metadata": {},
   "outputs": [],
   "source": [
    "lattice = TriangularZ2Lattice(configuration['lattice'])\n",
    "\n",
    "dual_lattice = PlaquetteDual(lattice)\n",
    "ising_hamiltonian = dual_lattice.make_hamiltonian(configuration['plaquette_energy'])\n",
    "\n",
    "num_link = lattice.num_links\n",
    "num_vtx = lattice.num_vertices\n",
    "num_plaq = lattice.num_plaquettes\n",
    "LOG.info('Number of links: %d, vertices: %d, plaquettes: %d', num_link, num_vtx, num_plaq)"
   ]
  },
  {
   "cell_type": "markdown",
   "id": "95699239",
   "metadata": {},
   "source": [
    "## Compute the approximate ground-state energy"
   ]
  },
  {
   "cell_type": "code",
   "execution_count": null,
   "id": "a91587a0",
   "metadata": {},
   "outputs": [],
   "source": [
    "with h5py.File(output_filename, 'r', swmr=True) as source:\n",
    "    compute = 'dmrg' not in source\n",
    "\n",
    "if compute:\n",
    "    proc = subprocess.run(['python', SCRIPT_DIR / 'dmrg.py', output_filename],\n",
    "                          capture_output=True, text=True, check=False)\n",
    "    sys.stdout.write(proc.stdout)\n",
    "    sys.stderr.write(proc.stderr)\n",
    "    proc.check_returncode()\n",
    "\n",
    "with h5py.File(output_filename, 'r', swmr=True) as source:\n",
    "    dmrg_energy = source['dmrg/energy'][()]\n",
    "\n",
    "print('DMRG energy:', dmrg_energy)"
   ]
  },
  {
   "cell_type": "markdown",
   "id": "6594234b",
   "metadata": {},
   "source": [
    "## Get the experiment data"
   ]
  },
  {
   "cell_type": "code",
   "execution_count": null,
   "id": "8de58a20",
   "metadata": {},
   "outputs": [],
   "source": [
    "with h5py.File(output_filename, 'r', swmr=True) as source:\n",
    "    data_group = source.get('data')\n",
    "    if data_group is None:\n",
    "        submit = compute = True\n",
    "    else:\n",
    "        submit = 'raw' not in data_group\n",
    "        compute = 'vtx' not in data_group or 'plaq' not in data_group\n",
    "\n",
    "if submit:\n",
    "    cmd = ['python', SCRIPT_DIR / 'experiment.py', output_filename, '--shots', '100000']\n",
    "    cmd += ['--job-id', 'd3mk71pfk6qs73e827bg']\n",
    "    proc = subprocess.run(cmd, capture_output=True, text=True, check=False)\n",
    "    sys.stdout.write(proc.stdout)\n",
    "    sys.stderr.write(proc.stderr)\n",
    "    proc.check_returncode()\n",
    "\n",
    "if compute:\n",
    "    proc = subprocess.run(['python', SCRIPT_DIR / 'data.py', output_filename],\n",
    "                          capture_output=True, text=True, check=False)\n",
    "    sys.stdout.write(proc.stdout)\n",
    "    sys.stderr.write(proc.stderr)\n",
    "    proc.check_returncode()"
   ]
  },
  {
   "cell_type": "markdown",
   "id": "bbc9b67a",
   "metadata": {},
   "source": [
    "## Test the SKQD accuracy without configuration recovery"
   ]
  },
  {
   "cell_type": "code",
   "execution_count": null,
   "id": "78b8cc5d",
   "metadata": {},
   "outputs": [],
   "source": [
    "with h5py.File(output_filename, 'r') as source:\n",
    "    compute = 'skqd_raw' not in source\n",
    "\n",
    "if compute:\n",
    "    cmd = ['python', SCRIPT_DIR / 'skqd_raw.py', output_filename,\n",
    "           '--gpu'] + list(map(str, CUDA_VISIBLE_DEVICES))\n",
    "    proc = subprocess.run(cmd, capture_output=True, text=True, check=False)\n",
    "    sys.stdout.write(proc.stdout)\n",
    "    sys.stderr.write(proc.stderr)\n",
    "    proc.check_returncode()\n",
    "\n",
    "sqd_states_raw, ham_proj_raw, energy_raw = read_skqd_result(output_filename, 'skqd_raw')\n",
    "\n",
    "LOG.info('Basis size: %d', sqd_states_raw.shape[0])\n",
    "LOG.info('Matrix density %d', ham_proj_raw.data.shape[0])\n",
    "LOG.info('Raw bitstrings energy: %f', energy_raw)"
   ]
  },
  {
   "cell_type": "markdown",
   "id": "26104322",
   "metadata": {},
   "source": [
    "## Test SKQD with random plaquette flips"
   ]
  },
  {
   "cell_type": "code",
   "execution_count": null,
   "id": "dbb25a42",
   "metadata": {},
   "outputs": [],
   "source": [
    "num_exps = 1\n",
    "sqd_states_rnd = {}\n",
    "ham_proj_rnd = {}\n",
    "energy_rnd = {}\n",
    "\n",
    "compute_iexp = []\n",
    "for iexp in range(num_exps):\n",
    "    with h5py.File(output_filename, 'r') as source:\n",
    "        if f'skqd_rnd_{iexp}' not in source:\n",
    "            compute_iexp.append(iexp)\n",
    "\n",
    "if compute_iexp:\n",
    "    cmd = ['python', SCRIPT_DIR / 'skqd_random.py', output_filename]\n",
    "    cmd += [f'{iexp}' for iexp in compute_iexp]\n",
    "    cmd += ['--gpu'] + list(map(str, CUDA_VISIBLE_DEVICES))\n",
    "    cmd += ['--num-gen', '3']\n",
    "    proc = subprocess.run(cmd, capture_output=True, text=True, check=False)\n",
    "    sys.stdout.write(proc.stdout)\n",
    "    sys.stderr.write(proc.stderr)\n",
    "    proc.check_returncode()\n",
    "\n",
    "for iexp in range(num_exps):\n",
    "    result = read_skqd_result(output_filename, f'skqd_rnd_{iexp}')\n",
    "    sqd_states_rnd[iexp] = result[0]\n",
    "    ham_proj_rnd[iexp] = result[1]\n",
    "    energy_rnd[iexp] = result[2]\n",
    "\n",
    "    LOG.info('Experiment %d basis size: %d', iexp, sqd_states_rnd[iexp].shape[0])\n",
    "    LOG.info('Matrix density %d', ham_proj_rnd[iexp].data.shape[0])\n",
    "    LOG.info('Energy %f', energy_rnd[iexp])"
   ]
  },
  {
   "cell_type": "markdown",
   "id": "4143f92f",
   "metadata": {},
   "source": [
    "## Train CRBMs for configuration recovery"
   ]
  },
  {
   "cell_type": "code",
   "execution_count": null,
   "id": "138be8d8",
   "metadata": {},
   "outputs": [],
   "source": [
    "procs = {}\n",
    "for istep in range(configuration['num_steps']):\n",
    "    groupname = f'crbm/step{istep}'\n",
    "    with h5py.File(output_filename, 'r') as source:\n",
    "        compute = f'step{istep}' not in source.get('crbm', {})\n",
    "\n",
    "    if compute:\n",
    "        with tempfile.NamedTemporaryFile() as tfile:\n",
    "            out_name = tfile.name\n",
    "\n",
    "        cmd = ['python', f'{SCRIPT_DIR}/train_crbm.py', output_filename, f'{istep}',\n",
    "               '--gpu', f'{CUDA_VISIBLE_DEVICES[istep % len(CUDA_VISIBLE_DEVICES)]}',\n",
    "               '--out', out_name, '--num-epochs', '100', '--rtol', '2.']\n",
    "        procs[istep] = (\n",
    "            subprocess.Popen(cmd, stdout=subprocess.PIPE, stderr=subprocess.PIPE, text=True),\n",
    "            out_name\n",
    "        )\n",
    "\n",
    "for istep, (proc, name) in procs.items():\n",
    "    stdout, stderr = proc.communicate()\n",
    "    sys.stdout.write(stdout)\n",
    "    sys.stderr.write(stderr)\n",
    "    if proc.returncode != 0:\n",
    "        raise subprocess.SubprocessError()\n",
    "    with h5py.File(output_filename, 'r+') as out:\n",
    "        try:\n",
    "            del out[f'crbm/step{istep}']\n",
    "        except KeyError:\n",
    "            pass\n",
    "\n",
    "        with h5py.File(name, 'r') as source:\n",
    "            source.copy(f'crbm/step{istep}', out.get('crbm') or out.create_group('crbm'))\n",
    "\n",
    "    os.unlink(name)"
   ]
  },
  {
   "cell_type": "code",
   "execution_count": null,
   "id": "351145a2",
   "metadata": {},
   "outputs": [],
   "source": [
    "fig, axes = plt.subplots(4, np.ceil(configuration['num_steps'] / 4).astype(int), sharex=True)\n",
    "fig.set_figheight(8.)\n",
    "\n",
    "for istep in range(configuration['num_steps']):\n",
    "    with h5py.File(output_filename, 'r') as source:\n",
    "        train_loss = source[f'crbm/step{istep}/records/train_loss'][()]\n",
    "        test_loss = source[f'crbm/step{istep}/records/test_loss'][()]\n",
    "\n",
    "    evals_per_epoch = train_loss.shape[0] // test_loss.shape[0]\n",
    "\n",
    "    ax = fig.axes[istep]\n",
    "    ax.set_title(f'Step {istep}', fontsize=8)\n",
    "    x = np.arange(len(train_loss)) / evals_per_epoch\n",
    "    ax.plot(x, train_loss)\n",
    "    x = np.arange(1, len(test_loss) + 1)\n",
    "    ax.plot(x, test_loss)\n",
    "\n",
    "fig.tight_layout()"
   ]
  },
  {
   "cell_type": "markdown",
   "id": "737b6279",
   "metadata": {},
   "source": [
    "## Test SKQD with configuration recovery"
   ]
  },
  {
   "cell_type": "code",
   "execution_count": null,
   "id": "5c8d9af5",
   "metadata": {},
   "outputs": [],
   "source": [
    "with h5py.File(output_filename, 'r', swmr=True) as source:\n",
    "    compute = 'skqd_rcv' not in source\n",
    "\n",
    "if compute:\n",
    "    cmd = ['python', SCRIPT_DIR / 'skqd_recovery.py', output_filename,\n",
    "           '--gpu', f'{CUDA_VISIBLE_DEVICES[0]}',\n",
    "           '--num-gen', '3', '--niter', '10',\n",
    "           '--terminate', 'diff=0.05', 'dim=800000']\n",
    "    proc = subprocess.run(cmd, capture_output=True, text=True)\n",
    "    sys.stdout.write(proc.stdout)\n",
    "    sys.stderr.write(proc.stderr)\n",
    "    proc.check_returncode()\n",
    "\n",
    "sqd_states_rcv, ham_proj_rcv, energy_rcv = read_skqd_result(output_filename, 'skqd_rcv')\n",
    "\n",
    "LOG.info('Basis size: %d', sqd_states_rcv.shape[0])\n",
    "LOG.info('Matrix density %d', ham_proj_rcv.data.shape[0])\n",
    "LOG.info('Recovered bitstrings energy: %f', energy_rcv)"
   ]
  },
  {
   "cell_type": "code",
   "execution_count": null,
   "id": "31d5fdd1",
   "metadata": {},
   "outputs": [],
   "source": [
    "dmrg_energy, energy_raw, energy_rnd, energy_rcv"
   ]
  }
 ],
 "metadata": {
  "kernelspec": {
   "display_name": "Python 3 (ipykernel)",
   "language": "python",
   "name": "python3"
  },
  "language_info": {
   "codemirror_mode": {
    "name": "ipython",
    "version": 3
   },
   "file_extension": ".py",
   "mimetype": "text/x-python",
   "name": "python",
   "nbconvert_exporter": "python",
   "pygments_lexer": "ipython3",
   "version": "3.12.11"
  }
 },
 "nbformat": 4,
 "nbformat_minor": 5
}
